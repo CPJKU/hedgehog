{
 "cells": [
  {
   "cell_type": "markdown",
   "metadata": {},
   "source": [
    "## To do\n",
    "\n",
    "- Inference\n",
    "- Use a framework such as PyMC?"
   ]
  },
  {
   "cell_type": "code",
   "execution_count": 1,
   "metadata": {},
   "outputs": [],
   "source": [
    "%load_ext autoreload\n",
    "%autoreload 2"
   ]
  },
  {
   "cell_type": "code",
   "execution_count": 152,
   "metadata": {},
   "outputs": [
    {
     "data": {
      "text/plain": [
       "<rev.bn.BayesNet at 0x127fb3890>"
      ]
     },
     "execution_count": 152,
     "metadata": {},
     "output_type": "execute_result"
    }
   ],
   "source": [
    "import pandas as pd\n",
    "import rev\n",
    "         \n",
    "# Network from figure 14.12(a) of Artificial Intelligence: A Modern Approach   \n",
    "\n",
    "bn = rev.BayesNet(\n",
    "    ('Cloudy', 'Sprinkler'),\n",
    "    ('Cloudy', 'Rain'),\n",
    "    ('Sprinkler', 'Wet grass'),\n",
    "    ('Rain', 'Wet grass')\n",
    ")\n",
    "\n",
    "bn.cpts['Cloudy'] = pd.Series({False: .5, True: .5})\n",
    "\n",
    "bn.cpts['Sprinkler'] = pd.Series({\n",
    "    (True, True): .1,\n",
    "    (True, False): .9,\n",
    "    (False, True): .5,\n",
    "    (False, False): .5\n",
    "})\n",
    "\n",
    "bn.cpts['Rain'] = pd.Series({\n",
    "    (True, True): .8,\n",
    "    (True, False): .2,\n",
    "    (False, True): .2,\n",
    "    (False, False): .8\n",
    "})\n",
    "\n",
    "bn.cpts['Wet grass'] = pd.Series({\n",
    "    (True, True, True): .99,\n",
    "    (True, True, False): .01,\n",
    "    \n",
    "    (True, False, True): .9,\n",
    "    (True, False, False): .1,\n",
    "    \n",
    "    (False, True, True): .9,\n",
    "    (False, True, False): .1,\n",
    "    \n",
    "    (False, False, True): 0,\n",
    "    (False, False, False): 1\n",
    "})\n",
    "\n",
    "samples = bn.sample(1000)\n",
    "bn.fit(samples)"
   ]
  },
  {
   "cell_type": "code",
   "execution_count": 153,
   "metadata": {},
   "outputs": [
    {
     "data": {
      "text/plain": [
       "Rain\n",
       "False    0.588235\n",
       "True     0.411765\n",
       "Name: P(Rain), dtype: float64"
      ]
     },
     "execution_count": 153,
     "metadata": {},
     "output_type": "execute_result"
    }
   ],
   "source": [
    "bn.query('Rain', n=100, event={'Sprinkler': True})"
   ]
  },
  {
   "cell_type": "code",
   "execution_count": 154,
   "metadata": {},
   "outputs": [
    {
     "data": {
      "text/plain": [
       "False    0.677215\n",
       "True     0.322785\n",
       "Name: Rain, dtype: float64"
      ]
     },
     "execution_count": 154,
     "metadata": {},
     "output_type": "execute_result"
    }
   ],
   "source": [
    "samples.query('Sprinkler')['Rain'].value_counts(normalize=True) "
   ]
  },
  {
   "cell_type": "code",
   "execution_count": 255,
   "metadata": {},
   "outputs": [
    {
     "data": {
      "text/plain": [
       "Rain\n",
       "False    0.021277\n",
       "True     0.978723\n",
       "Name: P(Rain), dtype: float64"
      ]
     },
     "execution_count": 255,
     "metadata": {},
     "output_type": "execute_result"
    }
   ],
   "source": [
    "bn.query('Rain', event={'Cloudy': True, 'Wet grass': True})"
   ]
  },
  {
   "cell_type": "code",
   "execution_count": 156,
   "metadata": {},
   "outputs": [
    {
     "data": {
      "text/plain": [
       "True     0.976804\n",
       "False    0.023196\n",
       "Name: Rain, dtype: float64"
      ]
     },
     "execution_count": 156,
     "metadata": {},
     "output_type": "execute_result"
    }
   ],
   "source": [
    "samples[samples['Cloudy'] & samples['Wet grass']]['Rain'].value_counts(normalize=True) "
   ]
  },
  {
   "cell_type": "code",
   "execution_count": 157,
   "metadata": {},
   "outputs": [
    {
     "data": {
      "text/plain": [
       "Cloudy\n",
       "True     0.518\n",
       "False    0.482\n",
       "Name: P(Cloudy), dtype: float64"
      ]
     },
     "execution_count": 157,
     "metadata": {},
     "output_type": "execute_result"
    }
   ],
   "source": [
    "bn.cpts['Cloudy']"
   ]
  },
  {
   "cell_type": "code",
   "execution_count": 158,
   "metadata": {},
   "outputs": [
    {
     "data": {
      "text/plain": [
       "Cloudy  Sprinkler\n",
       "False   True         0.535270\n",
       "        False        0.464730\n",
       "True    False        0.888031\n",
       "        True         0.111969\n",
       "Name: P(Sprinkler | Cloudy), dtype: float64"
      ]
     },
     "execution_count": 158,
     "metadata": {},
     "output_type": "execute_result"
    }
   ],
   "source": [
    "bn.cpts['Sprinkler']"
   ]
  },
  {
   "cell_type": "code",
   "execution_count": 161,
   "metadata": {},
   "outputs": [
    {
     "data": {
      "text/plain": [
       "Cloudy  Sprinkler  Rain \n",
       "False   True       False    0.792531\n",
       "                   True     0.207469\n",
       "        False      False    0.792531\n",
       "                   True     0.207469\n",
       "True    False      True     0.805019\n",
       "                   False    0.194981\n",
       "        True       True     0.805019\n",
       "                   False    0.194981\n",
       "dtype: float64"
      ]
     },
     "execution_count": 161,
     "metadata": {},
     "output_type": "execute_result"
    }
   ],
   "source": [
    "posterior = bn.cpts['Cloudy'] * bn.cpts['Sprinkler'] * bn.cpts['Rain']\n",
    "posterior.groupby(['Cloudy', 'Sprinkler']).apply(lambda g: g / g.sum())"
   ]
  },
  {
   "cell_type": "code",
   "execution_count": 203,
   "metadata": {},
   "outputs": [
    {
     "name": "stderr",
     "output_type": "stream",
     "text": [
      "/Users/mhalford/projects/rev/rev/bn.py:12: UserWarning: registration of accessor <class 'rev.bn.CPTAccessor'> under name 'cpt' for type <class 'pandas.core.series.Series'> is overriding a preexistingattribute with the same name.\n",
      "  @pd.api.extensions.register_series_accessor('cpt')\n"
     ]
    },
    {
     "data": {
      "text/plain": [
       "Cloudy  Sprinkler  Rain \n",
       "False   False      False    0.799107\n",
       "                   True     0.200893\n",
       "        True       False    0.786822\n",
       "                   True     0.213178\n",
       "True    False      True     0.804348\n",
       "                   False    0.195652\n",
       "        True       True     0.810345\n",
       "                   False    0.189655\n",
       "Name: Rain, dtype: float64"
      ]
     },
     "execution_count": 203,
     "metadata": {},
     "output_type": "execute_result"
    }
   ],
   "source": [
    "samples.groupby(['Cloudy', 'Sprinkler'])['Rain'].value_counts(normalize=True)"
   ]
  },
  {
   "cell_type": "code",
   "execution_count": 256,
   "metadata": {},
   "outputs": [
    {
     "data": {
      "text/plain": [
       "Rain\n",
       "False    0.032\n",
       "True     0.968\n",
       "dtype: float64"
      ]
     },
     "execution_count": 256,
     "metadata": {},
     "output_type": "execute_result"
    }
   ],
   "source": [
    "bn._gibbs_sampling('Rain', n=500, event={'Sprinkler': True, 'Wet grass': True})"
   ]
  },
  {
   "cell_type": "markdown",
   "metadata": {},
   "source": [
    "Network from figure 14.2 of *Artificial Intelligence: A Modern Approach*."
   ]
  },
  {
   "cell_type": "code",
   "execution_count": 11,
   "metadata": {},
   "outputs": [],
   "source": [
    "bn = rev.BayesNet(\n",
    "    ('Burglary', 'Alarm'),\n",
    "    ('Earthquake', 'Alarm'),\n",
    "    ('Alarm', 'John calls'),\n",
    "    ('Alarm', 'Mary calls')\n",
    ")\n",
    "\n",
    "bn.dists['Burglary'] = {(): rev.Bernoulli(.001)}\n",
    "bn.dists['Earthquake'] = {(): rev.Bernoulli(.002)}\n",
    "bn.dists['Alarm'] = {\n",
    "    (True, True): rev.Bernoulli(.95),\n",
    "    (True, False): rev.Bernoulli(.94),\n",
    "    (False, True): rev.Bernoulli(.29),\n",
    "    (False, False): rev.Bernoulli(.001)\n",
    "}\n",
    "bn.dists['John calls'] = {\n",
    "    (True,): rev.Bernoulli(.9),\n",
    "    (False,): rev.Bernoulli(.05)\n",
    "}\n",
    "bn.dists['Mary calls'] = {\n",
    "    (True,): rev.Bernoulli(.7),\n",
    "    (False,): rev.Bernoulli(.01)\n",
    "}"
   ]
  },
  {
   "cell_type": "code",
   "execution_count": null,
   "metadata": {},
   "outputs": [],
   "source": []
  },
  {
   "cell_type": "markdown",
   "metadata": {},
   "source": [
    "See page 527 of MIAI."
   ]
  },
  {
   "cell_type": "code",
   "execution_count": 113,
   "metadata": {},
   "outputs": [],
   "source": [
    "import itertools\n",
    "\n",
    "class Factor(collections.UserDict):\n",
    "    \"\"\"A factor used in the variable elimination algorithm.\n",
    "    \n",
    "    A factor is respresented as a dictionary. The keys are namedtuples and the values\n",
    "    are floats.\n",
    "    \n",
    "    \"\"\"\n",
    "    \n",
    "    def __init__(self, initialdata=None, **kwargs):\n",
    "        super().__init__(initialdata, **kwargs)\n",
    "        self.keys = set(next(iter(self))._asdict().keys())\n",
    "    \n",
    "    def __mul__(self, other):\n",
    "        \n",
    "        common = self.keys & other.keys\n",
    "        left = self.keys - common\n",
    "        right = other.keys - common\n",
    "        \n",
    "        values = {\n",
    "            \n",
    "        }\n",
    "        \n",
    "        for a, b, c in itertools.product(left, common, right):\n",
    "            print(a, b, c)"
   ]
  },
  {
   "cell_type": "code",
   "execution_count": 114,
   "metadata": {},
   "outputs": [
    {
     "name": "stdout",
     "output_type": "stream",
     "text": [
      "{'A'} {'B'} {'C'}\n",
      "A B C\n"
     ]
    }
   ],
   "source": [
    "key = collections.namedtuple('AB', 'A,B')\n",
    "f1 = Factor(initialdata={\n",
    "    key(True, True): .3,\n",
    "    key(True, False): .7,\n",
    "    key(False, True): .9,\n",
    "    key(False, False): .1\n",
    "})\n",
    "\n",
    "key = collections.namedtuple('BC', 'B,C')\n",
    "f2 = Factor(initialdata={\n",
    "    key(True, True): .2,\n",
    "    key(True, False): .8,\n",
    "    key(False, True): .6,\n",
    "    key(False, False): .4\n",
    "})\n",
    "\n",
    "f1 * f2"
   ]
  },
  {
   "cell_type": "code",
   "execution_count": 92,
   "metadata": {},
   "outputs": [
    {
     "data": {
      "text/plain": [
       "['B', 'C']"
      ]
     },
     "execution_count": 92,
     "metadata": {},
     "output_type": "execute_result"
    }
   ],
   "source": [
    "list(key(True, True)._asdict().keys())"
   ]
  },
  {
   "cell_type": "code",
   "execution_count": 122,
   "metadata": {},
   "outputs": [
    {
     "data": {
      "text/plain": [
       "array([[0.06, 0.24],\n",
       "       [0.18, 0.72]])"
      ]
     },
     "execution_count": 122,
     "metadata": {},
     "output_type": "execute_result"
    }
   ],
   "source": [
    "np.outer(np.array([.3, .9]), np.array([.2, .8]))"
   ]
  },
  {
   "cell_type": "markdown",
   "metadata": {},
   "source": [
    "## Sample"
   ]
  },
  {
   "cell_type": "markdown",
   "metadata": {},
   "source": [
    "Generate a random sample."
   ]
  },
  {
   "cell_type": "code",
   "execution_count": 56,
   "metadata": {},
   "outputs": [
    {
     "data": {
      "text/plain": [
       "{'Burglary': False,\n",
       " 'Earthquake': False,\n",
       " 'Alarm': False,\n",
       " 'Mary calls': False,\n",
       " 'John calls': False}"
      ]
     },
     "execution_count": 56,
     "metadata": {},
     "output_type": "execute_result"
    }
   ],
   "source": [
    "bn.sample()"
   ]
  },
  {
   "cell_type": "code",
   "execution_count": null,
   "metadata": {},
   "outputs": [],
   "source": []
  }
 ],
 "metadata": {
  "kernelspec": {
   "display_name": "Python 3",
   "language": "python",
   "name": "python3"
  },
  "language_info": {
   "codemirror_mode": {
    "name": "ipython",
    "version": 3
   },
   "file_extension": ".py",
   "mimetype": "text/x-python",
   "name": "python",
   "nbconvert_exporter": "python",
   "pygments_lexer": "ipython3",
   "version": "3.7.4"
  }
 },
 "nbformat": 4,
 "nbformat_minor": 4
}
