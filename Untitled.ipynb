{
 "cells": [
  {
   "cell_type": "markdown",
   "metadata": {},
   "source": [
    "## To do\n",
    "\n",
    "- Inference\n",
    "- Use a framework such as PyMC?"
   ]
  },
  {
   "cell_type": "code",
   "execution_count": 4,
   "metadata": {},
   "outputs": [
    {
     "name": "stdout",
     "output_type": "stream",
     "text": [
      "The autoreload extension is already loaded. To reload it, use:\n",
      "  %reload_ext autoreload\n"
     ]
    }
   ],
   "source": [
    "%load_ext autoreload\n",
    "%autoreload 2"
   ]
  },
  {
   "cell_type": "code",
   "execution_count": 8,
   "metadata": {},
   "outputs": [
    {
     "data": {
      "text/plain": [
       "{'Rain': Bernoulli(1.000)}"
      ]
     },
     "execution_count": 8,
     "metadata": {},
     "output_type": "execute_result"
    }
   ],
   "source": [
    "import rev\n",
    "         \n",
    "# Network from figure 14.12(a) of Artificial Intelligence: A Modern Approach   \n",
    "\n",
    "bn = rev.BayesNet(\n",
    "    ('Cloudy', 'Sprinkler'),\n",
    "    ('Cloudy', 'Rain'),\n",
    "    ('Sprinkler', 'Wet grass'),\n",
    "    ('Rain', 'Wet grass')\n",
    ")\n",
    "\n",
    "bn.dists['Cloudy'] = {(): rev.Bernoulli(.5)}\n",
    "\n",
    "bn.dists['Sprinkler'] = {\n",
    "    (True,): rev.Bernoulli(.1),\n",
    "    (False,): rev.Bernoulli(.5)\n",
    "}\n",
    "\n",
    "bn.dists['Rain'] = {\n",
    "    (True,): rev.Bernoulli(.8),\n",
    "    (False,): rev.Bernoulli(.2)\n",
    "}\n",
    "\n",
    "bn.dists['Wet grass'] = {\n",
    "    (True, True): rev.Bernoulli(.99),\n",
    "    (True, False): rev.Bernoulli(.9),\n",
    "    (False, True): rev.Bernoulli(.9),\n",
    "    (False, False): rev.Bernoulli(.0)\n",
    "}\n",
    "\n",
    "#samples = pd.DataFrame(bn.sample() for _ in range(100))\n",
    "#bn.fit(samples)\n",
    "\n",
    "bn.query('Rain', event={'Cloudy': True, 'Wet grass': True})\n",
    "#bn._sample({'Sprinkler': True})"
   ]
  },
  {
   "cell_type": "code",
   "execution_count": 285,
   "metadata": {},
   "outputs": [
    {
     "data": {
      "text/plain": [
       "array([1, 1, 1])"
      ]
     },
     "execution_count": 285,
     "metadata": {},
     "output_type": "execute_result"
    }
   ],
   "source": [
    "np.ones_like([1, 2, 3])"
   ]
  },
  {
   "cell_type": "code",
   "execution_count": 11,
   "metadata": {},
   "outputs": [],
   "source": [
    "# Network from figure 14.2 of Artificial Intelligence: A Modern Approach   \n",
    "\n",
    "bn = rev.BayesNet(\n",
    "    ('Burglary', 'Alarm'),\n",
    "    ('Earthquake', 'Alarm'),\n",
    "    ('Alarm', 'John calls'),\n",
    "    ('Alarm', 'Mary calls')\n",
    ")\n",
    "\n",
    "bn.dists['Burglary'] = {(): rev.Bernoulli(.001)}\n",
    "bn.dists['Earthquake'] = {(): rev.Bernoulli(.002)}\n",
    "bn.dists['Alarm'] = {\n",
    "    (True, True): rev.Bernoulli(.95),\n",
    "    (True, False): rev.Bernoulli(.94),\n",
    "    (False, True): rev.Bernoulli(.29),\n",
    "    (False, False): rev.Bernoulli(.001)\n",
    "}\n",
    "bn.dists['John calls'] = {\n",
    "    (True,): rev.Bernoulli(.9),\n",
    "    (False,): rev.Bernoulli(.05)\n",
    "}\n",
    "bn.dists['Mary calls'] = {\n",
    "    (True,): rev.Bernoulli(.7),\n",
    "    (False,): rev.Bernoulli(.01)\n",
    "}"
   ]
  },
  {
   "cell_type": "code",
   "execution_count": null,
   "metadata": {},
   "outputs": [],
   "source": []
  },
  {
   "cell_type": "markdown",
   "metadata": {},
   "source": [
    "See page 527 of MIAI."
   ]
  },
  {
   "cell_type": "code",
   "execution_count": 113,
   "metadata": {},
   "outputs": [],
   "source": [
    "import itertools\n",
    "\n",
    "class Factor(collections.UserDict):\n",
    "    \"\"\"A factor used in the variable elimination algorithm.\n",
    "    \n",
    "    A factor is respresented as a dictionary. The keys are namedtuples and the values\n",
    "    are floats.\n",
    "    \n",
    "    \"\"\"\n",
    "    \n",
    "    def __init__(self, initialdata=None, **kwargs):\n",
    "        super().__init__(initialdata, **kwargs)\n",
    "        self.keys = set(next(iter(self))._asdict().keys())\n",
    "    \n",
    "    def __mul__(self, other):\n",
    "        \n",
    "        common = self.keys & other.keys\n",
    "        left = self.keys - common\n",
    "        right = other.keys - common\n",
    "        \n",
    "        values = {\n",
    "            \n",
    "        }\n",
    "        \n",
    "        for a, b, c in itertools.product(left, common, right):\n",
    "            print(a, b, c)"
   ]
  },
  {
   "cell_type": "code",
   "execution_count": 114,
   "metadata": {},
   "outputs": [
    {
     "name": "stdout",
     "output_type": "stream",
     "text": [
      "{'A'} {'B'} {'C'}\n",
      "A B C\n"
     ]
    }
   ],
   "source": [
    "key = collections.namedtuple('AB', 'A,B')\n",
    "f1 = Factor(initialdata={\n",
    "    key(True, True): .3,\n",
    "    key(True, False): .7,\n",
    "    key(False, True): .9,\n",
    "    key(False, False): .1\n",
    "})\n",
    "\n",
    "key = collections.namedtuple('BC', 'B,C')\n",
    "f2 = Factor(initialdata={\n",
    "    key(True, True): .2,\n",
    "    key(True, False): .8,\n",
    "    key(False, True): .6,\n",
    "    key(False, False): .4\n",
    "})\n",
    "\n",
    "f1 * f2"
   ]
  },
  {
   "cell_type": "code",
   "execution_count": 92,
   "metadata": {},
   "outputs": [
    {
     "data": {
      "text/plain": [
       "['B', 'C']"
      ]
     },
     "execution_count": 92,
     "metadata": {},
     "output_type": "execute_result"
    }
   ],
   "source": [
    "list(key(True, True)._asdict().keys())"
   ]
  },
  {
   "cell_type": "code",
   "execution_count": 122,
   "metadata": {},
   "outputs": [
    {
     "data": {
      "text/plain": [
       "array([[0.06, 0.24],\n",
       "       [0.18, 0.72]])"
      ]
     },
     "execution_count": 122,
     "metadata": {},
     "output_type": "execute_result"
    }
   ],
   "source": [
    "np.outer(np.array([.3, .9]), np.array([.2, .8]))"
   ]
  },
  {
   "cell_type": "markdown",
   "metadata": {},
   "source": [
    "## Sample"
   ]
  },
  {
   "cell_type": "markdown",
   "metadata": {},
   "source": [
    "Generate a random sample."
   ]
  },
  {
   "cell_type": "code",
   "execution_count": 56,
   "metadata": {},
   "outputs": [
    {
     "data": {
      "text/plain": [
       "{'Burglary': False,\n",
       " 'Earthquake': False,\n",
       " 'Alarm': False,\n",
       " 'Mary calls': False,\n",
       " 'John calls': False}"
      ]
     },
     "execution_count": 56,
     "metadata": {},
     "output_type": "execute_result"
    }
   ],
   "source": [
    "bn.sample()"
   ]
  },
  {
   "cell_type": "code",
   "execution_count": null,
   "metadata": {},
   "outputs": [],
   "source": []
  }
 ],
 "metadata": {
  "kernelspec": {
   "display_name": "Python 3",
   "language": "python",
   "name": "python3"
  },
  "language_info": {
   "codemirror_mode": {
    "name": "ipython",
    "version": 3
   },
   "file_extension": ".py",
   "mimetype": "text/x-python",
   "name": "python",
   "nbconvert_exporter": "python",
   "pygments_lexer": "ipython3",
   "version": "3.7.4"
  }
 },
 "nbformat": 4,
 "nbformat_minor": 4
}
